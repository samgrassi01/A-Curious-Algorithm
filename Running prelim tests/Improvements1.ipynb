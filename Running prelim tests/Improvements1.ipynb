{
 "cells": [
  {
   "cell_type": "markdown",
   "metadata": {},
   "source": [
    "## Improvements to first algorithms\n",
    "In this notebook will re-write the algorithms with slight improvements to them, such as angles and more flexible input line functions.\n",
    "\n",
    "Need to implement:\n",
    "* function takes a top angle and a side length\n",
    "* choose number of points and lines to plot, which ones to plot\n",
    "* implement printer that prints all the needed information about a triangle process\n",
    "* break into more functions\n",
    "* graph of angle vs constant to find function.\n",
    "\n",
    "Bugs:\n",
    "* if start drawing at wrong point in obtuse triangle will draw outside of triangle. [solved]\n",
    "\n",
    "Implement General functions"
   ]
  },
  {
   "cell_type": "code",
   "execution_count": 1,
   "metadata": {},
   "outputs": [],
   "source": [
    "%matplotlib inline\n",
    "import math\n",
    "import matplotlib.pyplot as plt\n",
    "import random\n",
    "import heapq\n",
    "\n",
    "def findFunc(point1, point2):\n",
    "    \"\"\"find the linear function that fits two points\"\"\"\n",
    "    if((point1[0] ==0) and (point2[0] == 0)):\n",
    "        m = \"dne\"\n",
    "        b = \"dne\"\n",
    "    elif((point1[1] == 0) and (point2[1] == 0)):\n",
    "        m = 0\n",
    "        b = 0\n",
    "    else:\n",
    "        m = ((point2[1] - point1[1]) / (point2[0] - point1[0]))\n",
    "        b = (((point2[0] * point1[1]) - (point1[0] * point2[1])) / (point2[0] - point1 [0]))\n",
    "        \n",
    "    return m, b"
   ]
  },
  {
   "cell_type": "code",
   "execution_count": 2,
   "metadata": {},
   "outputs": [],
   "source": [
    "def midpoint(pair1, pair2):\n",
    "    \"\"\"find the midpoint between the two given points\"\"\"\n",
    "    x = (pair1[0] + pair2[0])/2\n",
    "    y = (pair1[1] + pair2[1])/2\n",
    "    return x, y"
   ]
  },
  {
   "cell_type": "code",
   "execution_count": 3,
   "metadata": {},
   "outputs": [],
   "source": [
    "def pFunc(m):\n",
    "    \"\"\"find function perpindicular to passed function slope\"\"\"\n",
    "    if(m != 0):\n",
    "        mperp = (-1/m)\n",
    "        \n",
    "    if(m == 0):\n",
    "        mperp = 0\n",
    "    \n",
    "    if(m=='dne'):\n",
    "        mperp = 0\n",
    "        \n",
    "    return mperp"
   ]
  },
  {
   "cell_type": "code",
   "execution_count": 4,
   "metadata": {},
   "outputs": [],
   "source": [
    "def newB(m, point):\n",
    "    \"\"\"find adjusted b\"\"\"\n",
    "    b = (point[1] - (m * point[0]))\n",
    "    return b"
   ]
  },
  {
   "cell_type": "code",
   "execution_count": 5,
   "metadata": {},
   "outputs": [],
   "source": [
    "def dist(point1, point2):\n",
    "    \"\"\"find the distance between the two passed points\"\"\"\n",
    "    dist = math.sqrt((pow((point2[0] - point1[0]), 2)) + ((pow((point2[1] - point1[1]), 2))))\n",
    "    return dist"
   ]
  },
  {
   "cell_type": "code",
   "execution_count": 6,
   "metadata": {},
   "outputs": [],
   "source": [
    "def inter(mb1, mb2):\n",
    "    \"\"\"find the point of intersection between two functions\"\"\"\n",
    "    x = ((mb2[1] - mb1[1]) / (mb1[0] - mb2[0]))\n",
    "    y = ((mb1[0] * x) + mb1[1])\n",
    "    return x, y"
   ]
  },
  {
   "cell_type": "code",
   "execution_count": 7,
   "metadata": {},
   "outputs": [],
   "source": [
    "def plot(dpi):\n",
    "    fig, ax=plt.subplots(dpi=dpi)\n",
    "    #ax.plot([2,4,1,5], label=\"Label\")\n",
    "    ax.legend()"
   ]
  },
  {
   "cell_type": "code",
   "execution_count": 8,
   "metadata": {},
   "outputs": [],
   "source": [
    "def return_angles(pnt1, pnt2, pnt3):\n",
    "    \"\"\"return all interior angles of passes triangle.  C is altitude (top) angle, A left, B right\n",
    "    returns A, B, C\"\"\"\n",
    "    \n",
    "    b = dist(pnt1, pnt2)\n",
    "    a = dist(pnt2, pnt3)\n",
    "    c = dist(pnt3, pnt1)\n",
    "    \n",
    "    A = math.degrees(math.acos((pow(b, 2) + pow(c, 2) - pow(a, 2)) / (2.0 * b * c)))\n",
    "    B = math.degrees(math.acos(((pow(c, 2) + pow(a, 2)) - pow(b, 2)) / (2.0 * c * a)))\n",
    "    C = math.degrees(math.acos(((pow(a, 2) + pow(b, 2)) - pow(c, 2)) / (2.0 * a * b)))\n",
    "    \n",
    "    return A, B, C"
   ]
  },
  {
   "cell_type": "code",
   "execution_count": 9,
   "metadata": {},
   "outputs": [],
   "source": [
    "def return_points(angle1, angle2, right_point):\n",
    "    \"\"\"anlge1 is top angle, angle2 is right angle.\n",
    "    The left point is on origin, the right point is defined by you, the top point is found computationally\"\"\"\n",
    "    \n",
    "    #find left angle\n",
    "    angle3 = (180 - angle1) - angle2\n",
    "    \n",
    "    #define left line\n",
    "    m1 = math.tan(math.radians(angle3))\n",
    "    b1 = 0\n",
    "    mb1 = [m1, b1]\n",
    "    \n",
    "    #define right line\n",
    "    m2 = -(math.tan(math.radians(angle2)))\n",
    "    b2 = newB(m2, right_point)\n",
    "    mb2 = [m2, b2]\n",
    "    \n",
    "    # find out when the line defined by left and right side intersect to get your final point.\n",
    "    pointT = inter(mb2, mb1)\n",
    "    \n",
    "    return (0, 0), pointT, right_point"
   ]
  },
  {
   "cell_type": "code",
   "execution_count": 10,
   "metadata": {},
   "outputs": [],
   "source": [
    "def drawTriangle(steps, startPoint, points, points_to_draw):\n",
    "    \"\"\"steps: the number of iterations to go around triangle\n",
    "    startPoint: the point to start the process from within the triangle\n",
    "    points: the set of points that define the outer triangle\n",
    "    points_to_draw: a [start, end] pair that determines the number of steps to graph\"\"\"\n",
    "    \n",
    "    # current point to draw from\n",
    "    current_point = startPoint\n",
    "    # track visited points for graphing\n",
    "    visited_points = [startPoint]\n",
    "    \n",
    "    # define lines of triangle.  Of form [m, b]\n",
    "    # bottom line is on x axis so don't have to draw it.\n",
    "    l1 = findFunc(points[0], points[1])\n",
    "    l2 = findFunc(points[1], points[2])\n",
    "    \n",
    "    # define perpindicular functions.  Returns m'\n",
    "    lp1 = pFunc(l1[0])\n",
    "    lp2 = pFunc(l2[0])\n",
    "    \n",
    "    # start painting loop for n steps\n",
    "    for i in range(0, steps):\n",
    "        \n",
    "        # for each perpendicular line, define the exact function that passes through the current point to find next step\n",
    "        lOne = [lp1, newB(lp1, current_point)]\n",
    "        inter1 = inter(l1, lOne)\n",
    "        \n",
    "        lTwo = [lp2, newB(lp2, current_point)]\n",
    "        inter2 = inter(l2, lTwo)\n",
    "        \n",
    "        # this corresponds to the botton line which lies along the x axis so need a different function rule for it.  \n",
    "        inter3 = [current_point[0], 0]\n",
    "        \n",
    "        \n",
    "        dist1 = dist(current_point, inter1)\n",
    "        dist2 = dist(current_point, inter2)\n",
    "        dist3 = dist(current_point, inter3)\n",
    "        \n",
    "        # use largest to pick the longest distance to travel within triangle\n",
    "        largest = heapq.nlargest(3, [dist1, dist2, dist3])\n",
    "        cur_largest = largest[0]\n",
    "        next_indx = largest.index(cur_largest) + 1\n",
    "        next_largest = largest[next_indx]\n",
    "        \n",
    "        # prevent program from drawing outside of triangle\n",
    "        while(True):\n",
    "            if((cur_largest == dist1) and (inter1[1] > points[1][1])):\n",
    "                cur_largest = largest[next_indx]\n",
    "            if((cur_largest == dist2) and (inter2[1] > points[1][1])):\n",
    "                cur_largest = largest[next_indx]\n",
    "            if((cur_largest == dist3) and (inter3[1] > points[1][1])):\n",
    "                cur_largest = largest[next_indx]\n",
    "            else:\n",
    "                break\n",
    "            \n",
    "        # if two distances are the same pick a random one to follow\n",
    "        if(cur_largest == next_largest):\n",
    "            # make a random choice between the two\n",
    "            largest_pick = random.choice([cur_largest, next_largest])\n",
    "\n",
    "            if(largest_pick == dist1):\n",
    "                current_point = inter1\n",
    "                visited_points.append(current_point)\n",
    "\n",
    "            if(largest_pick == dist2):\n",
    "                current_point = inter2\n",
    "                visited_points.append(current_point)\n",
    "\n",
    "            if(largest_pick == dist3):\n",
    "                current_point = inter3\n",
    "                visited_points.append(current_point)\n",
    "            \n",
    "        if(cur_largest != next_largest):   \n",
    "            # if all different distances and within rules, move to the new point\n",
    "            if(cur_largest == dist1):\n",
    "                current_point = inter1\n",
    "                visited_points.append(current_point)\n",
    "            if(cur_largest == dist2):\n",
    "                current_point = inter2\n",
    "                visited_points.append(current_point)\n",
    "            if(cur_largest == dist3):\n",
    "                current_point = inter3\n",
    "                visited_points.append(current_point)\n",
    "    \n",
    "    # plot the points of the stepping process\n",
    "    x = []\n",
    "    for i in visited_points[points_to_draw[0]:points_to_draw[1]]:\n",
    "        x.append(i[0])\n",
    "    \n",
    "    y = []\n",
    "    for i in visited_points[points_to_draw[0]:points_to_draw[1]]:\n",
    "        y.append(i[1])\n",
    "    \n",
    "    # plot the outer triangle\n",
    "    xT = [points[0][0], points[1][0], points[2][0], points[0][0]]\n",
    "    yT = [points[0][1], points[1][1], points[2][1], points[0][1]]\n",
    "    \n",
    "    fig, ax = plt.subplots(dpi=144)\n",
    "    ax.plot(xT, yT)\n",
    "    ax.plot(x, y)\n",
    "    #ax.scatter(x, y)\n",
    "    plt.xlim(-.5, (points[2][0]+.5))\n",
    "    plt.ylim(-.5, (points[1][1]+.5))\n",
    "    plt.gca().set_aspect('equal', adjustable='box')\n",
    "    \n",
    "    plt.draw\n",
    "\n",
    "    return visited_points"
   ]
  },
  {
   "cell_type": "code",
   "execution_count": 11,
   "metadata": {},
   "outputs": [],
   "source": [
    "def give_info(visited_points, points):\n",
    "    \"\"\"This function gives information about the inner and outer triangles passed\n",
    "    visited_points: can use to find inner triangle information\n",
    "    points: the set of points that defines the outer triangle\"\"\"\n",
    "    \n",
    "    # outer triangle information\n",
    "    print(\"Outer Triangle Information: \\n Inner angles: \", [round(i) for i in (return_angles(points[0], points[1], points[2]))])\n",
    "    \n",
    "    #print(\"\\nSide lengths: \", \\\n",
    "     #     dist(points[0], points[1]), dist(points[1], points[2]), dist(points[0], points[2]))\n",
    "    \n",
    "    if(visited_points[-4:-1] == visited_points[-7:-4]):\n",
    "        iPoints = visited_points[-4:-1]\n",
    "        print(\"\\n\\nInner Triangle Information: \\n Inner angles: \", [round(i) for i in (return_angles(iPoints[0], iPoints[1], iPoints[2]))])\n",
    "        \n",
    "        #print(\"\\nInner triangle side lengths: \",\\\n",
    "         #    dist(iPoints[0], iPoints[1]), dist(iPoints[1], iPoints[2]), dist(iPoints[2], iPoints[0]), \"\\n\")\n",
    "    \n",
    "    if(visited_points[-4:] == visited_points[-8:-4]):\n",
    "        mid1 = midpoint(visited_points[-2], visited_points[-3])\n",
    "        mid1 = [round(i, 6) for i in mid1]\n",
    "        mid2 = midpoint(visited_points[-1], visited_points[-4])\n",
    "        mid2 = [round(i, 6) for i in mid2]\n",
    "        \n",
    "        if(mid1 == mid2):\n",
    "            angles = return_angles(visited_points[-1], visited_points[-2], mid1)\n",
    "            print(\"\\n\\nInner angles of each triangle are: \", [round(i) for i in angles])"
   ]
  },
  {
   "cell_type": "code",
   "execution_count": 15,
   "metadata": {},
   "outputs": [
    {
     "name": "stdout",
     "output_type": "stream",
     "text": [
      "Outer Triangle Information: \n",
      " Inner angles:  [45, 45, 90]\n",
      "\n",
      "\n",
      "Inner angles of each triangle are:  [45, 90, 45]\n"
     ]
    },
    {
     "data": {
      "image/png": "[encoded data removed]",
      "text/plain": [
       "<Figure size 864x576 with 1 Axes>"
      ]
     },
     "metadata": {},
     "output_type": "display_data"
    }
   ],
   "source": [
    "outerT = return_points(90, 45, [4, 0])\n",
    "visited_points = drawTriangle(150, [2, 0], outerT, [0, 150])\n",
    "give_info(visited_points, outerT)"
   ]
  },
  {
   "cell_type": "code",
   "execution_count": 27,
   "metadata": {},
   "outputs": [
    {
     "name": "stdout",
     "output_type": "stream",
     "text": [
      "Outer Triangle Information: \n",
      " Inner angles:  [80, 80, 20]\n"
     ]
    },
    {
     "data": {
      "image/png": "[encoded data removed]",
      "text/plain": [
       "<Figure size 864x576 with 1 Axes>"
      ]
     },
     "metadata": {},
     "output_type": "display_data"
    }
   ],
   "source": [
    "outerT = return_points(20, 80, [4, 0])\n",
    "visited_points = drawTriangle(113, outerT[1], outerT, [0, 113])\n",
    "give_info(visited_points, outerT)"
   ]
  },
  {
   "cell_type": "code",
   "execution_count": 114,
   "metadata": {},
   "outputs": [
    {
     "name": "stdout",
     "output_type": "stream",
     "text": [
      "Outer Triangle Information: \n",
      " Inner angles:  [50, 50, 80]\n",
      "\n",
      "\n",
      "Inner Triangle Information: \n",
      " Inner angles:  [50, 50, 80]\n"
     ]
    },
    {
     "data": {
      "image/png": "[encoded data removed]",
      "text/plain": [
       "<Figure size 864x576 with 1 Axes>"
      ]
     },
     "metadata": {},
     "output_type": "display_data"
    }
   ],
   "source": [
    "outerT = return_points(80, 50, [4, 0])\n",
    "visited_points = drawTriangle(110, [0, 0], outerT, [0, 110])\n",
    "give_info(visited_points, outerT)"
   ]
  },
  {
   "cell_type": "code",
   "execution_count": null,
   "metadata": {},
   "outputs": [],
   "source": []
  },
  {
   "cell_type": "code",
   "execution_count": null,
   "metadata": {},
   "outputs": [],
   "source": []
  },
  {
   "cell_type": "code",
   "execution_count": null,
   "metadata": {},
   "outputs": [],
   "source": []
  },
  {
   "cell_type": "code",
   "execution_count": null,
   "metadata": {},
   "outputs": [],
   "source": []
  },
  {
   "cell_type": "code",
   "execution_count": null,
   "metadata": {},
   "outputs": [],
   "source": []
  },
  {
   "cell_type": "code",
   "execution_count": null,
   "metadata": {},
   "outputs": [],
   "source": []
  },
  {
   "cell_type": "code",
   "execution_count": null,
   "metadata": {},
   "outputs": [],
   "source": []
  },
  {
   "cell_type": "code",
   "execution_count": null,
   "metadata": {},
   "outputs": [],
   "source": []
  },
  {
   "cell_type": "code",
   "execution_count": null,
   "metadata": {},
   "outputs": [],
   "source": []
  },
  {
   "cell_type": "code",
   "execution_count": null,
   "metadata": {},
   "outputs": [],
   "source": []
  },
  {
   "cell_type": "code",
   "execution_count": null,
   "metadata": {},
   "outputs": [],
   "source": []
  },
  {
   "cell_type": "code",
   "execution_count": null,
   "metadata": {},
   "outputs": [],
   "source": []
  },
  {
   "cell_type": "code",
   "execution_count": null,
   "metadata": {},
   "outputs": [],
   "source": []
  },
  {
   "cell_type": "code",
   "execution_count": null,
   "metadata": {},
   "outputs": [],
   "source": []
  }
 ],
 "metadata": {
  "kernelspec": {
   "display_name": "Python 3",
   "language": "python",
   "name": "python3"
  },
  "language_info": {
   "codemirror_mode": {
    "name": "ipython",
    "version": 3
   },
   "file_extension": ".py",
   "mimetype": "text/x-python",
   "name": "python",
   "nbconvert_exporter": "python",
   "pygments_lexer": "ipython3",
   "version": "3.6.6"
  }
 },
 "nbformat": 4,
 "nbformat_minor": 2
}
